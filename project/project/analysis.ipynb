{
 "cells": [
  {
   "cell_type": "markdown",
   "id": "2f802982",
   "metadata": {},
   "source": []
  },
  {
   "cell_type": "markdown",
   "id": "82d7599b",
   "metadata": {},
   "source": []
  },
  {
   "cell_type": "code",
   "execution_count": 1,
   "id": "03600ef3",
   "metadata": {},
   "outputs": [],
   "source": [
    "import pandas as pd\n",
    "\n",
    "\n",
    "trade_df=pd.read_csv(r\"C:\\Users\\ASUS\\Downloads\\historical_data.csv\")\n",
    "sentiment_df=pd.read_csv(r\"C:\\Users\\ASUS\\Downloads\\fear_greed_index.csv\")"
   ]
  },
  {
   "cell_type": "code",
   "execution_count": 2,
   "id": "ed22af8c",
   "metadata": {},
   "outputs": [
    {
     "name": "stdout",
     "output_type": "stream",
     "text": [
      "                                           Account  Coin  Execution Price  \\\n",
      "66291   0xbaaaf6571ab7d571043ff1e313a9609a10637864  HYPE           21.069   \n",
      "105914  0x8477e447846c758f5a675856001ea72298fd9cb5  HYPE           23.074   \n",
      "4999    0x513b8629fe877bb581bf244e326a047b249c4ff1   BTC        82881.000   \n",
      "186231  0xbee1707d6b44d4d52bfe19e41f8a828645437aab  HYPE           14.429   \n",
      "161350  0xbee1707d6b44d4d52bfe19e41f8a828645437aab  @107           25.440   \n",
      "\n",
      "        Size Tokens   Size USD  Side     Timestamp IST  Start Position  \\\n",
      "66291      10.00000     210.69   BUY  24-02-2025 20:22    33489.300000   \n",
      "105914      4.33000      99.91  SELL  03-01-2025 03:59       94.960000   \n",
      "4999        3.51036  290942.15   BUY  12-04-2025 08:45       24.783350   \n",
      "186231    343.06000    4950.01  SELL  26-03-2025 21:02     -830.760000   \n",
      "161350      0.79000      20.10  SELL  19-12-2024 13:21     1295.250211   \n",
      "\n",
      "         Direction  Closed PnL  \\\n",
      "66291    Open Long    0.000000   \n",
      "105914  Close Long    0.435598   \n",
      "4999     Open Long    0.000000   \n",
      "186231  Open Short    0.000000   \n",
      "161350        Sell    0.196458   \n",
      "\n",
      "                                         Transaction Hash     Order ID  \\\n",
      "66291   0xf2f346d2f9620765292a041e619f910201a3002065eb...  74468249840   \n",
      "105914  0x680eb1aa11457be5c15a041a81b05e01670084dccc3b...  60309587071   \n",
      "4999    0x5124ea8f418a6fd4c8d0042160703e01d7007bedbd1b...  85946303492   \n",
      "186231  0x04a1f5c776e264b989770420509e4a02027800571864...  81941048433   \n",
      "161350  0x00000000000000000000000000000000000000000000...  56547743673   \n",
      "\n",
      "        Crossed        Fee      Trade ID     Timestamp  \n",
      "66291     False   0.020226  8.170000e+14  1.740000e+12  \n",
      "105914     True   0.034968  5.710000e+14  1.740000e+12  \n",
      "4999       True  72.735536  8.280000e+14  1.740000e+12  \n",
      "186231     True   1.485003  1.120000e+14  1.740000e+12  \n",
      "161350    False   0.001004  1.020000e+15  1.730000e+12  \n",
      "       timestamp  value classification        date\n",
      "2450  1729402200     73          Greed  2024-10-20\n",
      "2292  1715751000     64          Greed  2024-05-15\n",
      "1105  1613194200     92  Extreme Greed  2021-02-13\n",
      "1155  1617514200     74          Greed  2021-04-04\n",
      "561   1566192600     30           Fear  2019-08-19\n"
     ]
    }
   ],
   "source": [
    "print(trade_df.sample(5))\n",
    "print(sentiment_df.sample(5))\n"
   ]
  },
  {
   "cell_type": "code",
   "execution_count": 3,
   "id": "0d7c0491",
   "metadata": {},
   "outputs": [
    {
     "name": "stdout",
     "output_type": "stream",
     "text": [
      "Account              object\n",
      "Coin                 object\n",
      "Execution Price     float64\n",
      "Size Tokens         float64\n",
      "Size USD            float64\n",
      "Side                 object\n",
      "Timestamp IST        object\n",
      "Start Position      float64\n",
      "Direction            object\n",
      "Closed PnL          float64\n",
      "Transaction Hash     object\n",
      "Order ID              int64\n",
      "Crossed                bool\n",
      "Fee                 float64\n",
      "Trade ID            float64\n",
      "Timestamp           float64\n",
      "dtype: object\n",
      "timestamp          int64\n",
      "value              int64\n",
      "classification    object\n",
      "date              object\n",
      "dtype: object\n"
     ]
    }
   ],
   "source": [
    "print(trade_df.dtypes)\n",
    "print(sentiment_df.dtypes)"
   ]
  },
  {
   "cell_type": "code",
   "execution_count": 11,
   "id": "675e0556",
   "metadata": {},
   "outputs": [
    {
     "name": "stdout",
     "output_type": "stream",
     "text": [
      "Account             0\n",
      "Coin                0\n",
      "Execution Price     0\n",
      "Size Tokens         0\n",
      "Size USD            0\n",
      "Side                0\n",
      "Timestamp IST       0\n",
      "Start Position      0\n",
      "Direction           0\n",
      "Closed PnL          0\n",
      "Transaction Hash    0\n",
      "Order ID            0\n",
      "Crossed             0\n",
      "Fee                 0\n",
      "Trade ID            0\n",
      "Timestamp           0\n",
      "dtype: int64\n",
      "Account             0\n",
      "Coin                0\n",
      "Execution Price     0\n",
      "Size Tokens         0\n",
      "Size USD            0\n",
      "Side                0\n",
      "Timestamp IST       0\n",
      "Start Position      0\n",
      "Direction           0\n",
      "Closed PnL          0\n",
      "Transaction Hash    0\n",
      "Order ID            0\n",
      "Crossed             0\n",
      "Fee                 0\n",
      "Trade ID            0\n",
      "Timestamp           0\n",
      "dtype: int64\n"
     ]
    }
   ],
   "source": [
    "print(trade_df.isnull().sum())\n",
    "print(trade_df.isnull().sum())\n",
    "trade_df = trade_df.dropna()\n",
    "sentiment_df = sentiment_df.dropna()\n"
   ]
  },
  {
   "cell_type": "code",
   "execution_count": 12,
   "id": "a80121d7",
   "metadata": {},
   "outputs": [
    {
     "name": "stdout",
     "output_type": "stream",
     "text": [
      "       Execution Price   Size Tokens      Size USD  Start Position  \\\n",
      "count    211224.000000  2.112240e+05  2.112240e+05    2.112240e+05   \n",
      "mean      11414.723350  4.623365e+03  5.639451e+03   -2.994625e+04   \n",
      "std       29447.654868  1.042729e+05  3.657514e+04    6.738074e+05   \n",
      "min           0.000005  8.740000e-07  0.000000e+00   -1.433463e+07   \n",
      "25%           4.854700  2.940000e+00  1.937900e+02   -3.762311e+02   \n",
      "50%          18.280000  3.200000e+01  5.970450e+02    8.472793e+01   \n",
      "75%         101.580000  1.879025e+02  2.058960e+03    9.337278e+03   \n",
      "max      109004.000000  1.582244e+07  3.921431e+06    3.050948e+07   \n",
      "\n",
      "          Closed PnL      Order ID            Fee      Trade ID     Timestamp  \n",
      "count  211224.000000  2.112240e+05  211224.000000  2.112240e+05  2.112240e+05  \n",
      "mean       48.749001  6.965388e+10       1.163967  5.628549e+14  1.737744e+12  \n",
      "std       919.164828  1.835753e+10       6.758854  3.257565e+14  8.689920e+09  \n",
      "min   -117990.104100  1.732711e+08      -1.175712  0.000000e+00  1.680000e+12  \n",
      "25%         0.000000  5.983853e+10       0.016121  2.810000e+14  1.740000e+12  \n",
      "50%         0.000000  7.442939e+10       0.089578  5.620000e+14  1.740000e+12  \n",
      "75%         5.792797  8.335543e+10       0.393811  8.460000e+14  1.740000e+12  \n",
      "max    135329.090100  9.014923e+10     837.471593  1.130000e+15  1.750000e+12  \n",
      "          timestamp        value                       datetime\n",
      "count  2.644000e+03  2644.000000                           2644\n",
      "mean   1.631899e+09    46.981089  2021-09-17 17:14:45.022693120\n",
      "min    1.517463e+09     5.000000            2018-02-01 05:30:00\n",
      "25%    1.574811e+09    28.000000            2019-11-26 23:30:00\n",
      "50%    1.631900e+09    46.000000            2021-09-17 17:30:00\n",
      "75%    1.688989e+09    66.000000            2023-07-10 11:30:00\n",
      "max    1.746164e+09    95.000000            2025-05-02 05:30:00\n",
      "std    6.597967e+07    21.827680                            NaN\n"
     ]
    }
   ],
   "source": [
    "print(trade_df.describe())\n",
    "print(sentiment_df.describe())\n"
   ]
  },
  {
   "cell_type": "code",
   "execution_count": 10,
   "id": "1cb5b6eb",
   "metadata": {},
   "outputs": [
    {
     "name": "stdout",
     "output_type": "stream",
     "text": [
      "                count       mean       std   min   25%   50%    75%   max\n",
      "classification                                                           \n",
      "Extreme Fear    508.0  18.273622  4.699441   5.0  14.0  20.0  22.00  24.0\n",
      "Extreme Greed   326.0  82.116564  6.532657  75.0  76.0  80.0  87.75  95.0\n",
      "Fear            781.0  34.184379  6.092182  25.0  28.0  34.0  40.00  44.0\n",
      "Greed           633.0  65.846761  6.246282  55.0  61.0  66.0  72.00  74.0\n",
      "Neutral         396.0  49.964646  2.645993  45.0  48.0  50.0  52.00  54.0\n"
     ]
    }
   ],
   "source": [
    "print(sentiment_df.groupby('classification')['value'].describe())\n",
    "\n",
    "\n",
    "sentiment_df['datetime'] = pd.to_datetime(sentiment_df['timestamp'], unit='s')## 10 digit number in unix format."
   ]
  },
  {
   "cell_type": "code",
   "execution_count": 13,
   "id": "cab1ba9b",
   "metadata": {},
   "outputs": [
    {
     "data": {
      "image/png": "[encoded data removed]",
      "text/plain": [
       "<Figure size 800x400 with 1 Axes>"
      ]
     },
     "metadata": {},
     "output_type": "display_data"
    }
   ],
   "source": [
    "import matplotlib.pyplot as plt\n",
    "import seaborn as sns\n",
    "plt.figure(figsize=(8, 4))\n",
    "sns.histplot(sentiment_df['value'], bins=30, kde=True)\n",
    "plt.title(\"Distribution of Fear & Greed Index Value\")\n",
    "plt.xlabel(\"Sentiment Value\")\n",
    "plt.ylabel(\"Frequency\")\n",
    "plt.show()\n"
   ]
  },
  {
   "cell_type": "code",
   "execution_count": null,
   "id": "18ff1bf1",
   "metadata": {},
   "outputs": [
    {
     "ename": "NameError",
     "evalue": "name 'merged_df' is not defined",
     "output_type": "error",
     "traceback": [
      "\u001b[1;31m---------------------------------------------------------------------------\u001b[0m",
      "\u001b[1;31mNameError\u001b[0m                                 Traceback (most recent call last)",
      "Cell \u001b[1;32mIn[15], line 2\u001b[0m\n\u001b[0;32m      1\u001b[0m plt\u001b[38;5;241m.\u001b[39mfigure(figsize\u001b[38;5;241m=\u001b[39m(\u001b[38;5;241m10\u001b[39m, \u001b[38;5;241m5\u001b[39m))\n\u001b[1;32m----> 2\u001b[0m sns\u001b[38;5;241m.\u001b[39mscatterplot(data\u001b[38;5;241m=\u001b[39m\u001b[43mmerged_df\u001b[49m, x\u001b[38;5;241m=\u001b[39m\u001b[38;5;124m'\u001b[39m\u001b[38;5;124mvalue\u001b[39m\u001b[38;5;124m'\u001b[39m, y\u001b[38;5;241m=\u001b[39m\u001b[38;5;124m'\u001b[39m\u001b[38;5;124mExecution Price\u001b[39m\u001b[38;5;124m'\u001b[39m, hue\u001b[38;5;241m=\u001b[39m\u001b[38;5;124m'\u001b[39m\u001b[38;5;124mclassification\u001b[39m\u001b[38;5;124m'\u001b[39m)\n\u001b[0;32m      3\u001b[0m plt\u001b[38;5;241m.\u001b[39mtitle(\u001b[38;5;124m\"\u001b[39m\u001b[38;5;124mExecution Price vs Fear & Greed Index\u001b[39m\u001b[38;5;124m\"\u001b[39m)\n\u001b[0;32m      4\u001b[0m plt\u001b[38;5;241m.\u001b[39mxlabel(\u001b[38;5;124m\"\u001b[39m\u001b[38;5;124mSentiment Value\u001b[39m\u001b[38;5;124m\"\u001b[39m)\n",
      "\u001b[1;31mNameError\u001b[0m: name 'merged_df' is not defined"
     ]
    },
    {
     "data": {
      "text/plain": [
       "<Figure size 1000x500 with 0 Axes>"
      ]
     },
     "metadata": {},
     "output_type": "display_data"
    }
   ],
   "source": []
  },
  {
   "cell_type": "code",
   "execution_count": null,
   "id": "a1352d72",
   "metadata": {},
   "outputs": [],
   "source": []
  },
  {
   "cell_type": "code",
   "execution_count": null,
   "id": "cf6af664",
   "metadata": {},
   "outputs": [],
   "source": []
  },
  {
   "cell_type": "code",
   "execution_count": null,
   "id": "ec7dd345",
   "metadata": {},
   "outputs": [],
   "source": []
  },
  {
   "cell_type": "code",
   "execution_count": null,
   "id": "8d5e56b6",
   "metadata": {},
   "outputs": [],
   "source": []
  },
  {
   "cell_type": "markdown",
   "id": "e3c7a3fd",
   "metadata": {},
   "source": []
  }
 ],
 "metadata": {
  "kernelspec": {
   "display_name": "Python 3",
   "language": "python",
   "name": "python3"
  },
  "language_info": {
   "codemirror_mode": {
    "name": "ipython",
    "version": 3
   },
   "file_extension": ".py",
   "mimetype": "text/x-python",
   "name": "python",
   "nbconvert_exporter": "python",
   "pygments_lexer": "ipython3",
   "version": "3.13.3"
  }
 },
 "nbformat": 4,
 "nbformat_minor": 5
}
